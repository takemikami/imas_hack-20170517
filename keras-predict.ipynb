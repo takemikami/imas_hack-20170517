{
 "cells": [
  {
   "cell_type": "markdown",
   "metadata": {},
   "source": [
    "# TensorFlow/Kerasによる分類(予測)\n"
   ]
  },
  {
   "cell_type": "code",
   "execution_count": null,
   "metadata": {},
   "outputs": [],
   "source": [
    "# ライブラリのインポート\n",
    "import keras\n",
    "from keras.models import Sequential\n",
    "from keras.layers import Dense, Dropout, Flatten\n",
    "from keras.layers import Conv2D, MaxPooling2D\n",
    "from keras import backend as K\n",
    "import numpy as np\n",
    "\n",
    "from keras.preprocessing.image import load_img\n",
    "from keras.models import load_model\n",
    "\n",
    "import cv2, matplotlib\n",
    "import matplotlib.pyplot as plt\n",
    "%matplotlib inline"
   ]
  },
  {
   "cell_type": "code",
   "execution_count": null,
   "metadata": {
    "collapsed": true
   },
   "outputs": [],
   "source": [
    "# 各種パラメータ\n",
    "img_rows, img_cols = 64, 64\n",
    "batch_size = 128\n",
    "num_classes = 3\n",
    "arduino_led_enable = False "
   ]
  },
  {
   "cell_type": "code",
   "execution_count": null,
   "metadata": {
    "collapsed": true
   },
   "outputs": [],
   "source": [
    "# 学習したモデルの読み込み\n",
    "model = load_model(\"data/imas_yukiho_miki_yayoi.h5\")\n",
    "\n",
    "# 顔検出器の初期化\n",
    "cascade = cv2.CascadeClassifier(\"data/lbpcascade_animeface.xml\") # アニメ顔検出器の読み込み\n",
    "\n",
    "# Arduionoとの通信用シリアルポートの初期化\n",
    "ser = None\n",
    "if arduino_led_enable:\n",
    "    import serial\n",
    "    ser = serial.Serial(port='/dev/cu.usbmodem1431', baudrate=9600) # portは実際の環境に合わせること\n"
   ]
  },
  {
   "cell_type": "code",
   "execution_count": null,
   "metadata": {
    "collapsed": true
   },
   "outputs": [],
   "source": [
    "# 予測用関数の定義\n",
    "def image_predict(image_path):\n",
    "    img = cv2.imread(image_path)\n",
    "    gray_img = cv2.cvtColor(img, cv2.COLOR_RGB2GRAY) # イメージをグレースケールに変換\n",
    "    cv2.equalizeHist(gray_img, gray_img) # ヒストグラムを平坦化\n",
    "    facerect = cascade.detectMultiScale(gray_img, scaleFactor=1.1, minNeighbors=1, minSize=(1, 1)) # 顔認識\n",
    "\n",
    "    # 認識したものの中で、最大サイズの矩形を選択\n",
    "    maxsize = 0\n",
    "    maximagerect = None\n",
    "    if len(facerect) > 0:\n",
    "        for rect in facerect:\n",
    "            if maxsize < rect[2] * rect[3]:\n",
    "                maxsize = rect[2] * rect[3]\n",
    "                maximagerect = rect\n",
    "    \n",
    "    # 認識した顔が存在する場合、予測を実施する\n",
    "    if maximagerect is not None:\n",
    "        img_x = maximagerect[0]\n",
    "        img_y = maximagerect[1]\n",
    "        img_w = maximagerect[2]\n",
    "        img_h = maximagerect[3]\n",
    "        \n",
    "        small_img = cv2.resize(img[img_y:img_y+img_h, img_x:img_x+img_w], (img_cols, img_rows))\n",
    "\n",
    "        small_img_rgb = cv2.cvtColor(small_img, cv2.COLOR_BGR2RGB)\n",
    "        im_reading = np.array(small_img_rgb)\n",
    "        pred_data_set = np.empty((0,img_cols,img_rows,3), dtype=np.uint8)\n",
    "        pred_data_set = np.append(pred_data_set, [im_reading], axis=0)\n",
    "        \n",
    "        y_list = model.predict(pred_data_set, batch_size=batch_size, verbose=0)\n",
    "        for i in range(len(y_list)):\n",
    "            \n",
    "            print(\"雪歩: %1.20f\" % y_list[i][0])\n",
    "            print(\"美希: %1.20f\" % y_list[i][1])\n",
    "            print(\"やよい: %1.20f\" % y_list[i][2])\n",
    "            \n",
    "            # Arduionoに信号を送る\n",
    "            if y_list[i][0]>0.8:\n",
    "                output_bytes = b'1'\n",
    "            else:\n",
    "                output_bytes = b'0'\n",
    "            if ser != None and ser.isOpen():\n",
    "                ser.write(output_bytes)\n",
    "                \n",
    "            preview_img = cv2.cvtColor(img, cv2.COLOR_BGR2RGB)\n",
    "            plt.imshow(preview_img)    \n"
   ]
  },
  {
   "cell_type": "code",
   "execution_count": null,
   "metadata": {},
   "outputs": [],
   "source": [
    "image_predict('data/sample/yukiho1.jpg') "
   ]
  },
  {
   "cell_type": "code",
   "execution_count": null,
   "metadata": {},
   "outputs": [],
   "source": [
    "image_predict('data/sample/yukiho2.jpg') "
   ]
  },
  {
   "cell_type": "code",
   "execution_count": null,
   "metadata": {},
   "outputs": [],
   "source": [
    "image_predict('data/sample/yukiho3.jpg') "
   ]
  },
  {
   "cell_type": "code",
   "execution_count": null,
   "metadata": {},
   "outputs": [],
   "source": [
    "image_predict('data/sample/yukiho4.jpg') "
   ]
  },
  {
   "cell_type": "code",
   "execution_count": null,
   "metadata": {},
   "outputs": [],
   "source": [
    "image_predict('data/sample/yukiho5.jpg') "
   ]
  },
  {
   "cell_type": "code",
   "execution_count": null,
   "metadata": {},
   "outputs": [],
   "source": [
    "image_predict('data/sample/yayoi1.jpg') "
   ]
  },
  {
   "cell_type": "code",
   "execution_count": null,
   "metadata": {},
   "outputs": [],
   "source": [
    "image_predict('data/sample/yayoi2.jpg') "
   ]
  },
  {
   "cell_type": "code",
   "execution_count": null,
   "metadata": {},
   "outputs": [],
   "source": [
    "image_predict('data/sample/miki1.jpg') "
   ]
  },
  {
   "cell_type": "code",
   "execution_count": null,
   "metadata": {
    "collapsed": true
   },
   "outputs": [],
   "source": []
  }
 ],
 "metadata": {
  "kernelspec": {
   "display_name": "Python 3",
   "language": "python",
   "name": "python3"
  },
  "language_info": {
   "codemirror_mode": {
    "name": "ipython",
    "version": 3
   },
   "file_extension": ".py",
   "mimetype": "text/x-python",
   "name": "python",
   "nbconvert_exporter": "python",
   "pygments_lexer": "ipython3",
   "version": "3.5.3"
  }
 },
 "nbformat": 4,
 "nbformat_minor": 2
}
