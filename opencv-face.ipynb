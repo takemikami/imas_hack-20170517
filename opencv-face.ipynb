{
 "cells": [
  {
   "cell_type": "markdown",
   "metadata": {},
   "source": [
    "# OpenCVによる顔認識\n",
    "\n",
    "以下の流れで処理を行います。\n",
    "\n",
    "- ライブラリのインポート\n",
    "- サンプル画像を読み込んで表示してみる\n",
    "- 顔を検出してみる\n",
    "- 検出した顔部分を切り出した画像の表示（複数箇所検出した場合は、一番大きいサイズのものを表示）\n"
   ]
  },
  {
   "cell_type": "code",
   "execution_count": null,
   "metadata": {
    "collapsed": true
   },
   "outputs": [],
   "source": [
    "# ライブラリのインポート\n",
    "import cv2, matplotlib\n",
    "import matplotlib.pyplot as plt\n",
    "%matplotlib inline\n"
   ]
  },
  {
   "cell_type": "code",
   "execution_count": null,
   "metadata": {},
   "outputs": [],
   "source": [
    "#  サンプル画像を読み込んで表示してみる\n",
    "img = cv2.imread('data/sample/yukiho5.jpg') #  ゆきほ エクストリームバースト 読み込み\n",
    "img = cv2.cvtColor(img, cv2.COLOR_BGR2RGB) # matplotlibでの表示用に BGR→RGB変換\n",
    "plt.imshow(img)\n"
   ]
  },
  {
   "cell_type": "code",
   "execution_count": null,
   "metadata": {},
   "outputs": [],
   "source": [
    "# 顔を検出してみる\n",
    "cascade = cv2.CascadeClassifier(\"data/lbpcascade_animeface.xml\") # アニメ顔検出器の読み込み\n",
    "\n",
    "gray_img = cv2.cvtColor(img, cv2.COLOR_RGB2GRAY) # イメージをグレースケールに変換\n",
    "cv2.equalizeHist(gray_img, gray_img) # ヒストグラムを平坦化\n",
    "facerect = cascade.detectMultiScale(gray_img, scaleFactor=1.1, minNeighbors=1, minSize=(1, 1)) # 顔認識\n",
    "\n",
    "# 検出した顔を囲む矩形の作成\n",
    "color = (255, 255, 255)\n",
    "image = img\n",
    "if len(facerect) > 0:\n",
    "    for rect in facerect:\n",
    "        cv2.rectangle(image, tuple(rect[0:2]),tuple(rect[0:2]+rect[2:4]), color, thickness=2)\n",
    "\n",
    "# 顔部分に白色の矩形をつけた画像の表示\n",
    "plt.imshow(image)"
   ]
  },
  {
   "cell_type": "code",
   "execution_count": null,
   "metadata": {},
   "outputs": [],
   "source": [
    "#  検出した顔部分を切り出した画像の表示（複数箇所検出した場合は、一番大きいサイズのものを表示）\n",
    "\n",
    "maxsize = 0\n",
    "maximagerect = None\n",
    "if len(facerect) > 0:\n",
    "    for rect in facerect:\n",
    "        if maxsize < rect[2] * rect[3]:\n",
    "            maxsize = rect[2] * rect[3]\n",
    "            maximagerect = rect\n",
    "if maximagerect is not None:\n",
    "    x = maximagerect[0]\n",
    "    y = maximagerect[1]\n",
    "    w = maximagerect[2]\n",
    "    h = maximagerect[3]\n",
    "\n",
    "plt.imshow(img[y:y+h, x:x+w])"
   ]
  },
  {
   "cell_type": "raw",
   "metadata": {},
   "source": []
  }
 ],
 "metadata": {
  "kernelspec": {
   "display_name": "Python 3",
   "language": "python",
   "name": "python3"
  },
  "language_info": {
   "codemirror_mode": {
    "name": "ipython",
    "version": 3
   },
   "file_extension": ".py",
   "mimetype": "text/x-python",
   "name": "python",
   "nbconvert_exporter": "python",
   "pygments_lexer": "ipython3",
   "version": "3.5.3"
  }
 },
 "nbformat": 4,
 "nbformat_minor": 1
}
