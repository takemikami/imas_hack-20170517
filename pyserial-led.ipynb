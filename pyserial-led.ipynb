{
 "cells": [
  {
   "cell_type": "markdown",
   "metadata": {},
   "source": [
    "# pyserialによるArduinoへの通信\n"
   ]
  },
  {
   "cell_type": "code",
   "execution_count": null,
   "metadata": {
    "collapsed": true
   },
   "outputs": [],
   "source": [
    "# ライブラリのインポート\n",
    "import serial\n"
   ]
  },
  {
   "cell_type": "code",
   "execution_count": null,
   "metadata": {},
   "outputs": [],
   "source": [
    "# 0を送出 (LEDの点滅を止める)\n",
    "ser = serial.Serial(port='/dev/cu.usbmodem1431', baudrate=9600) # portは実際の環境に合わせること\n",
    "\n",
    "output_bytes = b'0'\n",
    "if ser.isOpen():\n",
    "    ser.write(output_bytes)\n",
    "    print(\"send: \" + str(output_bytes))"
   ]
  },
  {
   "cell_type": "code",
   "execution_count": null,
   "metadata": {},
   "outputs": [],
   "source": [
    "# 1を送出 (LEDの点滅を開始する)\n",
    "ser = serial.Serial(port='/dev/cu.usbmodem1431', baudrate=9600) # portは実際の環境に合わせること\n",
    "\n",
    "output_bytes = b'1'\n",
    "if ser.isOpen():\n",
    "    ser.write(output_bytes)\n",
    "    print(\"send: \" + str(output_bytes))"
   ]
  },
  {
   "cell_type": "code",
   "execution_count": null,
   "metadata": {
    "collapsed": true
   },
   "outputs": [],
   "source": []
  }
 ],
 "metadata": {
  "kernelspec": {
   "display_name": "Python 3",
   "language": "python",
   "name": "python3"
  },
  "language_info": {
   "codemirror_mode": {
    "name": "ipython",
    "version": 3
   },
   "file_extension": ".py",
   "mimetype": "text/x-python",
   "name": "python",
   "nbconvert_exporter": "python",
   "pygments_lexer": "ipython3",
   "version": "3.5.3"
  }
 },
 "nbformat": 4,
 "nbformat_minor": 1
}
